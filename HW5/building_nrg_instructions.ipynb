{
 "cells": [
  {
   "cell_type": "code",
   "execution_count": 1,
   "metadata": {
    "collapsed": false,
    "scrolled": true
   },
   "outputs": [
    {
     "name": "stdout",
     "output_type": "stream",
     "text": [
      "Populating the interactive namespace from numpy and matplotlib\n"
     ]
    }
   ],
   "source": [
    "import geopandas as gp\n",
    "import pandas as pd\n",
    "import numpy as np\n",
    "import os\n",
    "import json\n",
    "import pylab as pl\n",
    "import statsmodels.api as sm\n",
    "import math\n",
    "#s = json.load( open(os.getenv('PUI2015')+'/fbb_matplotlibrc.json') )\n",
    "#pl.rcParams.update(s)\n",
    "%pylab inline"
   ]
  },
  {
   "cell_type": "markdown",
   "metadata": {},
   "source": [
    "I am using geopanda. that is **not required** for this particular exercise, but geopand works with geospacial data: the shape files that we get from pluto for example.\n",
    "\n",
    "PLEASE REMEMBER: seed your random functions if you need to use any, label your axes clearly, comment your code, use PEP8!\n"
   ]
  },
  {
   "cell_type": "markdown",
   "metadata": {},
   "source": [
    "##We will use 2 different datasets.\n",
    "##an interesting urban question is \"can we measure and predict energy use based on observables that are easier to be acquired\". for example the urban observatory at CUSP can monitor lights: they are a realtively easy observable. All you need is a camera, and a pipeline to process your data. But how does the light coming from a window relate to the total energy consumption? We generally postulate that light is a proxy for occupancy, and that occupancy is a good predictor of energy consumption.\n",
    "##so let's test if the last link holds. If we have data on the energy consumed by a __building__ how well does that relate to the number of units in the building?\n",
    "\n",
    "## data on energy consumption can be found here for the city of NY https://data.cityofnewyork.us/Environment/Energy-and-Water-Data-Disclosure-for-Local-Law-84-/rgfe-8y2z  "
   ]
  },
  {
   "cell_type": "code",
   "execution_count": 2,
   "metadata": {
    "collapsed": false,
    "scrolled": true
   },
   "outputs": [
    {
     "name": "stdout",
     "output_type": "stream",
     "text": [
      "Index([u'NYC Borough, Block, and Lot (BBL)', u'Co-reported BBL Status',\n",
      "       u'BBLs Co-reported',\n",
      "       u'Reported NYC Building Identificaiton Numbers (BINs)',\n",
      "       u'Street Number', u'Street Name', u'Borough', u'Zip Code',\n",
      "       u'DOF Benchmarking Submission Status', u'Site EUI(kBtu/ft2)',\n",
      "       u'Weather Normalized Site EUI(kBtu/ft2)', u'Source EUI(kBtu/ft2)',\n",
      "       u'Weather Normalized Source EUI(kBtu/ft2)',\n",
      "       u'Municipally Supplied Potable Water - Indoor Intensity (gal/ft²)',\n",
      "       u'Automatic Water Benchmarking Eligible', u'Reported Water Method',\n",
      "       u'ENERGY STAR Score', u'Total GHG Emissions(MtCO2e)',\n",
      "       u'Direct GHG Emissions(MtCO2e)', u'Indirect GHG Emissions(MtCO2e)',\n",
      "       u'Reported Property Floor Area (Building(s)) (ft²)',\n",
      "       u'DOF Property Floor Area (Buildngs and Parking)(ft2)',\n",
      "       u'Primary Property Type - Self Selected', u'DOF Number of Buildings'],\n",
      "      dtype='object')\n"
     ]
    }
   ],
   "source": [
    "nrg = gp.GeoDataFrame.from_csv(\"Energy_and_Water_Data_Disclosure_for_Local_Law_84__2013_.csv\")\n",
    "print nrg.columns\n"
   ]
  },
  {
   "cell_type": "markdown",
   "metadata": {},
   "source": [
    "#however this datasets does not have the number of units. We can find that in the Pluto dataset.\n",
    "reading in the Pluto data for manhattan, which will give me the number of units ber building   Manhattan/MNMapPLUTO.shp"
   ]
  },
  {
   "cell_type": "code",
   "execution_count": 3,
   "metadata": {
    "collapsed": false
   },
   "outputs": [
    {
     "name": "stdout",
     "output_type": "stream",
     "text": [
      "Index([    u'APPBBL',    u'APPDate',    u'Address', u'AllZoning1',\n",
      "       u'AllZoning2', u'AreaSource', u'AssessLand',  u'AssessTot',\n",
      "              u'BBL',   u'BldgArea',  u'BldgClass',  u'BldgDepth',\n",
      "        u'BldgFront',      u'Block',   u'BoroCode',    u'Borough',\n",
      "         u'BsmtCode',  u'BuiltCode',   u'BuiltFAR',     u'CB2010',\n",
      "               u'CD',     u'CT2010',    u'ComArea',    u'CommFAR',\n",
      "          u'CondoNo',    u'Council',  u'EDesigNum',  u'Easements',\n",
      "       u'ExemptLand',  u'ExemptTot',        u'Ext',   u'FacilFAR',\n",
      "       u'FactryArea',   u'FireComp', u'GarageArea', u'HealthArea',\n",
      "         u'HistDist', u'IrrLotCode',    u'LandUse',   u'Landmark',\n",
      "              u'Lot',    u'LotArea',   u'LotDepth',   u'LotFront',\n",
      "          u'LotType',  u'LtdHeight', u'MAPPLUTO_F',   u'NumBldgs',\n",
      "        u'NumFloors', u'OfficeArea',  u'OtherArea',   u'Overlay1',\n",
      "         u'Overlay2',  u'OwnerName',  u'OwnerType', u'PLUTOMapID',\n",
      "       u'PolicePrct',   u'ProxCode',    u'ResArea',   u'ResidFAR',\n",
      "       u'RetailArea', u'SHAPE_Area', u'SHAPE_Leng',    u'SPDist1',\n",
      "          u'SPDist2',    u'Sanborn', u'SchoolDist',  u'SplitZone',\n",
      "        u'StrgeArea',     u'TaxMap',  u'Tract2010',   u'UnitsRes',\n",
      "       u'UnitsTotal',    u'Version',     u'XCoord',     u'YCoord',\n",
      "       u'YearAlter1', u'YearAlter2',  u'YearBuilt',     u'ZMCode',\n",
      "          u'ZipCode',  u'ZoneDist1',  u'ZoneDist2',  u'ZoneDist3',\n",
      "        u'ZoneDist4',    u'ZoneMap',   u'geometry'],\n",
      "      dtype='object')\n"
     ]
    }
   ],
   "source": [
    "##remove\n",
    "\n",
    "bsize = gp.GeoDataFrame.from_file(\"Manhattan/MNMapPLUTO.shp\")\n",
    "print bsize.columns\n"
   ]
  },
  {
   "cell_type": "markdown",
   "metadata": {},
   "source": [
    "in pandas scatter_matrix will plot each column agains each other. that is a great way to begin inspecting your data (though be careful cause it is computationally comsuming for large datasets) \n",
    "\n"
   ]
  },
  {
   "cell_type": "code",
   "execution_count": 4,
   "metadata": {
    "collapsed": false,
    "scrolled": true
   },
   "outputs": [
    {
     "data": {
      "text/plain": [
       "array([[<matplotlib.axes._subplots.AxesSubplot object at 0x10ddf2390>,\n",
       "        <matplotlib.axes._subplots.AxesSubplot object at 0x1219c4590>,\n",
       "        <matplotlib.axes._subplots.AxesSubplot object at 0x131989510>,\n",
       "        <matplotlib.axes._subplots.AxesSubplot object at 0x10d49fc50>],\n",
       "       [<matplotlib.axes._subplots.AxesSubplot object at 0x10f1bbe90>,\n",
       "        <matplotlib.axes._subplots.AxesSubplot object at 0x112cec5d0>,\n",
       "        <matplotlib.axes._subplots.AxesSubplot object at 0x11509b810>,\n",
       "        <matplotlib.axes._subplots.AxesSubplot object at 0x114418550>],\n",
       "       [<matplotlib.axes._subplots.AxesSubplot object at 0x11b472050>,\n",
       "        <matplotlib.axes._subplots.AxesSubplot object at 0x11f2a5290>,\n",
       "        <matplotlib.axes._subplots.AxesSubplot object at 0x120976250>,\n",
       "        <matplotlib.axes._subplots.AxesSubplot object at 0x124c6f490>],\n",
       "       [<matplotlib.axes._subplots.AxesSubplot object at 0x120a314d0>,\n",
       "        <matplotlib.axes._subplots.AxesSubplot object at 0x127f3ddd0>,\n",
       "        <matplotlib.axes._subplots.AxesSubplot object at 0x12c808a10>,\n",
       "        <matplotlib.axes._subplots.AxesSubplot object at 0x12e659f90>]], dtype=object)"
      ]
     },
     "execution_count": 4,
     "metadata": {},
     "output_type": "execute_result"
    },
    {
     "data": {
      "image/png": "[encoded data removed]",
      "text/plain": [
       "<matplotlib.figure.Figure at 0x132451e50>"
      ]
     },
     "metadata": {},
     "output_type": "display_data"
    }
   ],
   "source": [
    "from pandas.tools.plotting import scatter_matrix\n",
    "scatter_matrix (nrg, s=300, figsize=(16, 16), diagonal='kde')\n"
   ]
  },
  {
   "cell_type": "markdown",
   "metadata": {},
   "source": [
    "it will show me correlations between variables, but it will also show me what can and \n",
    "cannot be plotted trivially in my dataset! here only a few columns can be plotted: \n",
    "those that contain only numbers (and possibly NaN's), but most columns contain rows that cannot be converted to float (e.g. entries like 'See Primary BBL' in several rows for the energy dataframe 'Site EUI(kBtu/ft2) ' column) , so Pandas refuses to plot them, cause it does not know what to do with those entries. \n",
    "The columns I am interested in are in fact u'Site EUI(kBtu/ft2)' which is a measure of the energy consumed PER SQ FOOT by a building, and then the building area: for eg.       u'Reported Property Floor Area (Building(s)) (ft²)'. Neither gets plotted: i need to remove all values that cannot conver to float in order to use the columns and convert them to float arrays and do math with them. \n",
    "\n",
    "Below I created a function that returns True if what is passed as argument can be converted to a float, and False otherwise. I do it with the Try/Except structure. it is a very useful python functionality that you should look into.  \n",
    "this has to be done entry by entry: if you gve t a series you get error \"cannot convert the series to <type 'float'>\"\n",
    "\n",
    "However you can pass it a whole array by using it in conjunction with\n",
    "np.vectorize (look up the syntax!) which will implement a for loop for you under the hood to pass the series entry by entry to your function.\n"
   ]
  },
  {
   "cell_type": "code",
   "execution_count": 5,
   "metadata": {
    "collapsed": false
   },
   "outputs": [],
   "source": [
    "#convert ot float arrays\n",
    "def canconvert(mydata):\n",
    "    try :\n",
    "        float(mydata)\n",
    "        return True\n",
    "    except ValueError:\n",
    "        return False\n",
    "    "
   ]
  },
  {
   "cell_type": "markdown",
   "metadata": {},
   "source": [
    "Now for every column i care about i can create an array, call it for eg. indx, of True and False (a Boolean array) that i can use as an index to pick entries that \n",
    "I want to use from my arrays of interest. I can replace the entries that failed to be converted to 'NaN'\n",
    "\n",
    "(because my function return Trues when I can convert and False otherwise i actuallly want the complementary array: ~indx)"
   ]
  },
  {
   "cell_type": "code",
   "execution_count": 6,
   "metadata": {
    "collapsed": true
   },
   "outputs": [],
   "source": [
    "#create the indeces array here\n",
    "indx = np.vectorize(canconvert)(nrg['Site EUI(kBtu/ft2)'])"
   ]
  },
  {
   "cell_type": "code",
   "execution_count": 7,
   "metadata": {
    "collapsed": true
   },
   "outputs": [],
   "source": [
    "indx2 = (np.vectorize(canconvert)(nrg['Reported Property Floor Area (Building(s)) (ft²)']))\n",
    "indx3 = np.vectorize(canconvert)(bsize['BBL'])"
   ]
  },
  {
   "cell_type": "code",
   "execution_count": 8,
   "metadata": {
    "collapsed": false
   },
   "outputs": [
    {
     "name": "stderr",
     "output_type": "stream",
     "text": [
      "/Users/lucyy/anaconda/lib/python2.7/site-packages/ipykernel/__main__.py:1: SettingWithCopyWarning: \n",
      "A value is trying to be set on a copy of a slice from a DataFrame\n",
      "\n",
      "See the the caveats in the documentation: http://pandas.pydata.org/pandas-docs/stable/indexing.html#indexing-view-versus-copy\n",
      "  if __name__ == '__main__':\n",
      "/Users/lucyy/anaconda/lib/python2.7/site-packages/ipykernel/__main__.py:2: SettingWithCopyWarning: \n",
      "A value is trying to be set on a copy of a slice from a DataFrame\n",
      "\n",
      "See the the caveats in the documentation: http://pandas.pydata.org/pandas-docs/stable/indexing.html#indexing-view-versus-copy\n",
      "  from ipykernel import kernelapp as app\n",
      "/Users/lucyy/anaconda/lib/python2.7/site-packages/ipykernel/__main__.py:3: SettingWithCopyWarning: \n",
      "A value is trying to be set on a copy of a slice from a DataFrame\n",
      "\n",
      "See the the caveats in the documentation: http://pandas.pydata.org/pandas-docs/stable/indexing.html#indexing-view-versus-copy\n",
      "  app.launch_new_instance()\n"
     ]
    }
   ],
   "source": [
    "nrg['Site EUI(kBtu/ft2)'][~indx]=float('NaN')\n",
    "nrg['Reported Property Floor Area (Building(s)) (ft²)'][~indx2]=float('NaN')\n",
    "bsize['BBL'][~indx3]=float('NaN')\n",
    "\n",
    "#etc etc... for all columns you care about"
   ]
  },
  {
   "cell_type": "code",
   "execution_count": 9,
   "metadata": {
    "collapsed": false
   },
   "outputs": [
    {
     "name": "stdout",
     "output_type": "stream",
     "text": [
      "Record Number\n",
      "16099      180.5\n",
      "500         82.1\n",
      "5017       137.7\n",
      "5116       103.2\n",
      "363         74.0\n",
      "6876        36.4\n",
      "10714      114.8\n",
      "1214       130.0\n",
      "1544       138.3\n",
      "1905     56909.0\n",
      "2301        88.2\n",
      "15059       15.7\n",
      "674          NaN\n",
      "2537        85.7\n",
      "2841       195.7\n",
      "2945        79.1\n",
      "15120      144.1\n",
      "3053       200.9\n",
      "4233       104.6\n",
      "4777        86.7\n",
      "4912       102.1\n",
      "5210        21.2\n",
      "5295        78.3\n",
      "1575         NaN\n",
      "15025       55.2\n",
      "4208        83.2\n",
      "4799       145.1\n",
      "1568        59.4\n",
      "5427        88.7\n",
      "5476       100.8\n",
      "          ...   \n",
      "14559        NaN\n",
      "14560        NaN\n",
      "14748        NaN\n",
      "14753        NaN\n",
      "13582        NaN\n",
      "13947        NaN\n",
      "14777        NaN\n",
      "14779        NaN\n",
      "14409        NaN\n",
      "13262        NaN\n",
      "13261        NaN\n",
      "12523        NaN\n",
      "12529        NaN\n",
      "12536        NaN\n",
      "13929        NaN\n",
      "13944        NaN\n",
      "13945        NaN\n",
      "13821        NaN\n",
      "13829        NaN\n",
      "13837        NaN\n",
      "13838        NaN\n",
      "13847        NaN\n",
      "14352        NaN\n",
      "12976        NaN\n",
      "12978        NaN\n",
      "12984        NaN\n",
      "12987        NaN\n",
      "12988        NaN\n",
      "13472        NaN\n",
      "13482        NaN\n",
      "Name: Site EUI(kBtu/ft2), dtype: float64\n",
      "Record Number\n",
      "16099     91968\n",
      "500      235370\n",
      "5017      64806\n",
      "5116      62839\n",
      "363       98000\n",
      "6876      53275\n",
      "10714     61846\n",
      "1214     204417\n",
      "1544      60110\n",
      "1905     457946\n",
      "2301     511001\n",
      "15059     56442\n",
      "674       60939\n",
      "2537      78435\n",
      "2841      80293\n",
      "2945     104990\n",
      "15120    528180\n",
      "3053     440895\n",
      "4233      69656\n",
      "4777      62300\n",
      "4912      64838\n",
      "5210      80917\n",
      "5295      62205\n",
      "1575     292061\n",
      "15025     66000\n",
      "4208     509100\n",
      "4799      56170\n",
      "1568      76430\n",
      "5427      76992\n",
      "5476      72000\n",
      "          ...  \n",
      "14559       NaN\n",
      "14560       NaN\n",
      "14748       NaN\n",
      "14753       NaN\n",
      "13582       NaN\n",
      "13947       NaN\n",
      "14777       NaN\n",
      "14779       NaN\n",
      "14409       NaN\n",
      "13262       NaN\n",
      "13261       NaN\n",
      "12523       NaN\n",
      "12529       NaN\n",
      "12536       NaN\n",
      "13929       NaN\n",
      "13944       NaN\n",
      "13945       NaN\n",
      "13821       NaN\n",
      "13829       NaN\n",
      "13837       NaN\n",
      "13838       NaN\n",
      "13847       NaN\n",
      "14352       NaN\n",
      "12976       NaN\n",
      "12978       NaN\n",
      "12984       NaN\n",
      "12987       NaN\n",
      "12988       NaN\n",
      "13472       NaN\n",
      "13482       NaN\n",
      "Name: Reported Property Floor Area (Building(s)) (ft²), dtype: float64\n",
      "0        1002760020\n",
      "1        1002280022\n",
      "2        1005900056\n",
      "3        1005890030\n",
      "4        1005310056\n",
      "5        1011860040\n",
      "6        1004940026\n",
      "7        1005580017\n",
      "8        1001807505\n",
      "9        1005820050\n",
      "10       1004680049\n",
      "11       1008090073\n",
      "12       1002040034\n",
      "13       1002270019\n",
      "14       1001367504\n",
      "15       1006120028\n",
      "16       1004230028\n",
      "17       1004100032\n",
      "18       1008980025\n",
      "19       1008970053\n",
      "20       1007870058\n",
      "21       1003850030\n",
      "22       1003870119\n",
      "23       1009110055\n",
      "24       1004070039\n",
      "25       1004360002\n",
      "26       1008850079\n",
      "27       1007760001\n",
      "28       1000190013\n",
      "29       1006220070\n",
      "            ...    \n",
      "42756    1017090031\n",
      "42757    1011710069\n",
      "42758    1011090100\n",
      "42759    1015320036\n",
      "42760    1010517502\n",
      "42761    1006990009\n",
      "42762    1007460059\n",
      "42763    1007760033\n",
      "42764    1002460005\n",
      "42765    1019120043\n",
      "42766    1018520020\n",
      "42767    1017270067\n",
      "42768    1007050050\n",
      "42769    1022150806\n",
      "42770    1005310016\n",
      "42771    1017800075\n",
      "42772    1003010011\n",
      "42773    1016527501\n",
      "42774    1004930030\n",
      "42775    1010370038\n",
      "42776    1006240008\n",
      "42777    1010170004\n",
      "42778    1010370030\n",
      "42779    1007020125\n",
      "42780    1013730001\n",
      "42781    1013730030\n",
      "42782    1018447501\n",
      "42783    1020957501\n",
      "42784    1020677501\n",
      "42785    1014737504\n",
      "Name: BBL, dtype: float64\n"
     ]
    }
   ],
   "source": [
    "##check that your conversion worked: e.g.\n",
    "print nrg['Site EUI(kBtu/ft2)'].astype(float)\n",
    "#[...] check all columns you care about in both datasets. \n",
    "#Nan's are ok, but you must not get an error when you try the conversion\n",
    "#the Pluto data is much better at not using spurious entries for numerical value columns. \n",
    "#but check you can use the columns you want\n",
    "print nrg['Reported Property Floor Area (Building(s)) (ft²)'].astype(float)\n",
    "#notice i can use the attribute notation to refer to columns in bsize, \n",
    "#cause the column names do not have spaces!\n",
    "print bsize.BBL.astype(float)"
   ]
  },
  {
   "cell_type": "markdown",
   "metadata": {},
   "source": [
    "#TO MERGE THE DATASET WE NEED A COMMON COLUMN\n",
    "here is where you want to merge the datasets. You need a common column: the building id BBL\n",
    "However the name of this variable (column) in the Energy dataset is     'NYC Borough, Block, and Lot (BBL)'. create a column 'BBL' in the nrg dataset to pass it to the 'on' keyword argument of the merge pandas method: pd.merge(..... on=['BBL']) will use the common column 'BBL' to join the information from the 2 datasets for each BBL value (check out the complete syntax!) "
   ]
  },
  {
   "cell_type": "code",
   "execution_count": 10,
   "metadata": {
    "collapsed": false
   },
   "outputs": [
    {
     "name": "stderr",
     "output_type": "stream",
     "text": [
      "/Users/lucyy/anaconda/lib/python2.7/site-packages/pandas/core/index.py:1695: UnicodeWarning: Unicode equal comparison failed to convert both arguments to Unicode - interpreting them as being unequal\n",
      "  indexer = self._engine.get_indexer(target.values)\n",
      "/Users/lucyy/anaconda/lib/python2.7/site-packages/pandas/core/index.py:1049: UnicodeWarning: Unicode equal comparison failed to convert both arguments to Unicode - interpreting them as being unequal\n",
      "  return key in self._engine\n"
     ]
    },
    {
     "data": {
      "text/html": [
       "<div>\n",
       "<table border=\"1\" class=\"dataframe\">\n",
       "  <thead>\n",
       "    <tr style=\"text-align: right;\">\n",
       "      <th></th>\n",
       "      <th>NYC Borough, Block, and Lot (BBL)</th>\n",
       "      <th>Co-reported BBL Status</th>\n",
       "      <th>BBLs Co-reported</th>\n",
       "      <th>Reported NYC Building Identificaiton Numbers (BINs)</th>\n",
       "      <th>Street Number</th>\n",
       "      <th>Street Name</th>\n",
       "      <th>Borough_x</th>\n",
       "      <th>Zip Code</th>\n",
       "      <th>DOF Benchmarking Submission Status</th>\n",
       "      <th>Site EUI(kBtu/ft2)</th>\n",
       "      <th>...</th>\n",
       "      <th>YearAlter2</th>\n",
       "      <th>YearBuilt</th>\n",
       "      <th>ZMCode</th>\n",
       "      <th>ZipCode</th>\n",
       "      <th>ZoneDist1</th>\n",
       "      <th>ZoneDist2</th>\n",
       "      <th>ZoneDist3</th>\n",
       "      <th>ZoneDist4</th>\n",
       "      <th>ZoneMap</th>\n",
       "      <th>geometry</th>\n",
       "    </tr>\n",
       "  </thead>\n",
       "  <tbody>\n",
       "    <tr>\n",
       "      <th>0</th>\n",
       "      <td>1005050001</td>\n",
       "      <td>NaN</td>\n",
       "      <td>1005050001</td>\n",
       "      <td>1007817</td>\n",
       "      <td>150</td>\n",
       "      <td>VARICK STREET</td>\n",
       "      <td>Manhattan</td>\n",
       "      <td>10013</td>\n",
       "      <td>Filed</td>\n",
       "      <td>82.1</td>\n",
       "      <td>...</td>\n",
       "      <td>0</td>\n",
       "      <td>1926</td>\n",
       "      <td>None</td>\n",
       "      <td>10013</td>\n",
       "      <td>M1-6</td>\n",
       "      <td>None</td>\n",
       "      <td>None</td>\n",
       "      <td>None</td>\n",
       "      <td>12a</td>\n",
       "      <td>POLYGON ((982849.6037999988 203886.2427999973,...</td>\n",
       "    </tr>\n",
       "    <tr>\n",
       "      <th>1</th>\n",
       "      <td>1021420100</td>\n",
       "      <td>NaN</td>\n",
       "      <td>1021420100</td>\n",
       "      <td>1063495</td>\n",
       "      <td>4079</td>\n",
       "      <td>BROADWAY</td>\n",
       "      <td>Manhattan</td>\n",
       "      <td>10032</td>\n",
       "      <td>Filed</td>\n",
       "      <td>137.69999999999999</td>\n",
       "      <td>...</td>\n",
       "      <td>0</td>\n",
       "      <td>1924</td>\n",
       "      <td>None</td>\n",
       "      <td>10032</td>\n",
       "      <td>R8</td>\n",
       "      <td>None</td>\n",
       "      <td>None</td>\n",
       "      <td>None</td>\n",
       "      <td>3b</td>\n",
       "      <td>POLYGON ((1001098.760600001 246912.0266000032,...</td>\n",
       "    </tr>\n",
       "    <tr>\n",
       "      <th>2</th>\n",
       "      <td>1021750080</td>\n",
       "      <td>NaN</td>\n",
       "      <td>1021750080</td>\n",
       "      <td>1064235</td>\n",
       "      <td>60</td>\n",
       "      <td>SHERMAN AVENUE</td>\n",
       "      <td>Manhattan</td>\n",
       "      <td>10040</td>\n",
       "      <td>Filed</td>\n",
       "      <td>103.2</td>\n",
       "      <td>...</td>\n",
       "      <td>0</td>\n",
       "      <td>1920</td>\n",
       "      <td>None</td>\n",
       "      <td>10040</td>\n",
       "      <td>R7-2</td>\n",
       "      <td>None</td>\n",
       "      <td>None</td>\n",
       "      <td>None</td>\n",
       "      <td>3a</td>\n",
       "      <td>POLYGON ((1004289.818000004 253753.9872000068,...</td>\n",
       "    </tr>\n",
       "    <tr>\n",
       "      <th>3</th>\n",
       "      <td>1003360005</td>\n",
       "      <td>NaN</td>\n",
       "      <td>1003360005</td>\n",
       "      <td>1088884</td>\n",
       "      <td>16</td>\n",
       "      <td>BIALYSTOKER PLACE</td>\n",
       "      <td>Manhattan</td>\n",
       "      <td>10002</td>\n",
       "      <td>Filed</td>\n",
       "      <td>74</td>\n",
       "      <td>...</td>\n",
       "      <td>0</td>\n",
       "      <td>1982</td>\n",
       "      <td>Y</td>\n",
       "      <td>10002</td>\n",
       "      <td>R8</td>\n",
       "      <td>None</td>\n",
       "      <td>None</td>\n",
       "      <td>None</td>\n",
       "      <td>12c</td>\n",
       "      <td>POLYGON ((988978.3273999989 200091.3113999963,...</td>\n",
       "    </tr>\n",
       "    <tr>\n",
       "      <th>4</th>\n",
       "      <td>1008070028</td>\n",
       "      <td>NaN</td>\n",
       "      <td>1-00807-0028</td>\n",
       "      <td>1015181</td>\n",
       "      <td>119</td>\n",
       "      <td>WEST   31 STREET</td>\n",
       "      <td>Manhattan</td>\n",
       "      <td>10001</td>\n",
       "      <td>Filed</td>\n",
       "      <td>130</td>\n",
       "      <td>...</td>\n",
       "      <td>0</td>\n",
       "      <td>1912</td>\n",
       "      <td>None</td>\n",
       "      <td>10001</td>\n",
       "      <td>C6-4.5</td>\n",
       "      <td>None</td>\n",
       "      <td>None</td>\n",
       "      <td>None</td>\n",
       "      <td>8d</td>\n",
       "      <td>POLYGON ((987142.3643999994 212082.1648000032,...</td>\n",
       "    </tr>\n",
       "    <tr>\n",
       "      <th>5</th>\n",
       "      <td>1008580014</td>\n",
       "      <td>NaN</td>\n",
       "      <td>1-00858-0014</td>\n",
       "      <td>1016899</td>\n",
       "      <td>80</td>\n",
       "      <td>MADISON AVENUE</td>\n",
       "      <td>Manhattan</td>\n",
       "      <td>10016</td>\n",
       "      <td>Filed</td>\n",
       "      <td>138.30000000000001</td>\n",
       "      <td>...</td>\n",
       "      <td>0</td>\n",
       "      <td>1923</td>\n",
       "      <td>None</td>\n",
       "      <td>10016</td>\n",
       "      <td>C5-2</td>\n",
       "      <td>None</td>\n",
       "      <td>None</td>\n",
       "      <td>None</td>\n",
       "      <td>8d</td>\n",
       "      <td>POLYGON ((988236.059799999 210446.8110000044, ...</td>\n",
       "    </tr>\n",
       "    <tr>\n",
       "      <th>6</th>\n",
       "      <td>1009687501</td>\n",
       "      <td>NaN</td>\n",
       "      <td>1-00968-7501</td>\n",
       "      <td>1022060</td>\n",
       "      <td>630</td>\n",
       "      <td>1 AVENUE</td>\n",
       "      <td>Manhattan</td>\n",
       "      <td>10016</td>\n",
       "      <td>Filed</td>\n",
       "      <td>56909</td>\n",
       "      <td>...</td>\n",
       "      <td>0</td>\n",
       "      <td>1984</td>\n",
       "      <td>None</td>\n",
       "      <td>10016</td>\n",
       "      <td>C1-9</td>\n",
       "      <td>M1-5</td>\n",
       "      <td>None</td>\n",
       "      <td>None</td>\n",
       "      <td>8d</td>\n",
       "      <td>POLYGON ((992204.4226000011 210789.5082000047,...</td>\n",
       "    </tr>\n",
       "    <tr>\n",
       "      <th>7</th>\n",
       "      <td>1011390001</td>\n",
       "      <td>NaN</td>\n",
       "      <td>1-01139-0001</td>\n",
       "      <td>1028849</td>\n",
       "      <td>145</td>\n",
       "      <td>WEST   67 STREET</td>\n",
       "      <td>Manhattan</td>\n",
       "      <td>10023</td>\n",
       "      <td>Filed</td>\n",
       "      <td>88.2</td>\n",
       "      <td>...</td>\n",
       "      <td>0</td>\n",
       "      <td>1986</td>\n",
       "      <td>None</td>\n",
       "      <td>10023</td>\n",
       "      <td>C4-7</td>\n",
       "      <td>None</td>\n",
       "      <td>None</td>\n",
       "      <td>None</td>\n",
       "      <td>8c</td>\n",
       "      <td>POLYGON ((988979.4684000015 221890.7784000039,...</td>\n",
       "    </tr>\n",
       "    <tr>\n",
       "      <th>8</th>\n",
       "      <td>1012090148</td>\n",
       "      <td>NaN</td>\n",
       "      <td>1-01209-00148</td>\n",
       "      <td>1031751</td>\n",
       "      <td>NaN</td>\n",
       "      <td>NaN</td>\n",
       "      <td>Manhattan</td>\n",
       "      <td>NaN</td>\n",
       "      <td>Not on Covered Buildings List</td>\n",
       "      <td>15.7</td>\n",
       "      <td>...</td>\n",
       "      <td>0</td>\n",
       "      <td>1900</td>\n",
       "      <td>None</td>\n",
       "      <td>10025</td>\n",
       "      <td>R9</td>\n",
       "      <td>None</td>\n",
       "      <td>None</td>\n",
       "      <td>None</td>\n",
       "      <td>5d</td>\n",
       "      <td>POLYGON ((993619.4018000066 227878.1987999976,...</td>\n",
       "    </tr>\n",
       "    <tr>\n",
       "      <th>9</th>\n",
       "      <td>1005680024</td>\n",
       "      <td>NaN</td>\n",
       "      <td>1005680024</td>\n",
       "      <td>1032045</td>\n",
       "      <td>60</td>\n",
       "      <td>UNIVERSITY PLACE</td>\n",
       "      <td>Manhattan</td>\n",
       "      <td>10003</td>\n",
       "      <td>Filed</td>\n",
       "      <td>NaN</td>\n",
       "      <td>...</td>\n",
       "      <td>0</td>\n",
       "      <td>1926</td>\n",
       "      <td>None</td>\n",
       "      <td>10003</td>\n",
       "      <td>C1-7</td>\n",
       "      <td>R7-2</td>\n",
       "      <td>None</td>\n",
       "      <td>None</td>\n",
       "      <td>12c</td>\n",
       "      <td>POLYGON ((985980.269600004 206319.3540000021, ...</td>\n",
       "    </tr>\n",
       "  </tbody>\n",
       "</table>\n",
       "<p>10 rows × 111 columns</p>\n",
       "</div>"
      ],
      "text/plain": [
       "   NYC Borough, Block, and Lot (BBL) Co-reported BBL Status BBLs Co-reported  \\\n",
       "0                         1005050001                    NaN       1005050001   \n",
       "1                         1021420100                    NaN       1021420100   \n",
       "2                         1021750080                    NaN       1021750080   \n",
       "3                         1003360005                    NaN       1003360005   \n",
       "4                         1008070028                    NaN     1-00807-0028   \n",
       "5                         1008580014                    NaN     1-00858-0014   \n",
       "6                         1009687501                    NaN     1-00968-7501   \n",
       "7                         1011390001                    NaN     1-01139-0001   \n",
       "8                         1012090148                    NaN    1-01209-00148   \n",
       "9                         1005680024                    NaN       1005680024   \n",
       "\n",
       "  Reported NYC Building Identificaiton Numbers (BINs) Street Number  \\\n",
       "0                                            1007817            150   \n",
       "1                                            1063495           4079   \n",
       "2                                            1064235             60   \n",
       "3                                            1088884             16   \n",
       "4                                            1015181            119   \n",
       "5                                            1016899             80   \n",
       "6                                            1022060            630   \n",
       "7                                            1028849            145   \n",
       "8                                            1031751            NaN   \n",
       "9                                            1032045             60   \n",
       "\n",
       "         Street Name  Borough_x  Zip Code DOF Benchmarking Submission Status  \\\n",
       "0      VARICK STREET  Manhattan     10013                              Filed   \n",
       "1           BROADWAY  Manhattan     10032                              Filed   \n",
       "2     SHERMAN AVENUE  Manhattan     10040                              Filed   \n",
       "3  BIALYSTOKER PLACE  Manhattan     10002                              Filed   \n",
       "4   WEST   31 STREET  Manhattan     10001                              Filed   \n",
       "5     MADISON AVENUE  Manhattan     10016                              Filed   \n",
       "6           1 AVENUE  Manhattan     10016                              Filed   \n",
       "7   WEST   67 STREET  Manhattan     10023                              Filed   \n",
       "8                NaN  Manhattan       NaN      Not on Covered Buildings List   \n",
       "9   UNIVERSITY PLACE  Manhattan     10003                              Filed   \n",
       "\n",
       "   Site EUI(kBtu/ft2)                        ...                          \\\n",
       "0                82.1                        ...                           \n",
       "1  137.69999999999999                        ...                           \n",
       "2               103.2                        ...                           \n",
       "3                  74                        ...                           \n",
       "4                 130                        ...                           \n",
       "5  138.30000000000001                        ...                           \n",
       "6               56909                        ...                           \n",
       "7                88.2                        ...                           \n",
       "8                15.7                        ...                           \n",
       "9                 NaN                        ...                           \n",
       "\n",
       "  YearAlter2 YearBuilt ZMCode ZipCode ZoneDist1 ZoneDist2 ZoneDist3 ZoneDist4  \\\n",
       "0          0      1926   None   10013      M1-6      None      None      None   \n",
       "1          0      1924   None   10032        R8      None      None      None   \n",
       "2          0      1920   None   10040      R7-2      None      None      None   \n",
       "3          0      1982      Y   10002        R8      None      None      None   \n",
       "4          0      1912   None   10001    C6-4.5      None      None      None   \n",
       "5          0      1923   None   10016      C5-2      None      None      None   \n",
       "6          0      1984   None   10016      C1-9      M1-5      None      None   \n",
       "7          0      1986   None   10023      C4-7      None      None      None   \n",
       "8          0      1900   None   10025        R9      None      None      None   \n",
       "9          0      1926   None   10003      C1-7      R7-2      None      None   \n",
       "\n",
       "  ZoneMap                                           geometry  \n",
       "0     12a  POLYGON ((982849.6037999988 203886.2427999973,...  \n",
       "1      3b  POLYGON ((1001098.760600001 246912.0266000032,...  \n",
       "2      3a  POLYGON ((1004289.818000004 253753.9872000068,...  \n",
       "3     12c  POLYGON ((988978.3273999989 200091.3113999963,...  \n",
       "4      8d  POLYGON ((987142.3643999994 212082.1648000032,...  \n",
       "5      8d  POLYGON ((988236.059799999 210446.8110000044, ...  \n",
       "6      8d  POLYGON ((992204.4226000011 210789.5082000047,...  \n",
       "7      8c  POLYGON ((988979.4684000015 221890.7784000039,...  \n",
       "8      5d  POLYGON ((993619.4018000066 227878.1987999976,...  \n",
       "9     12c  POLYGON ((985980.269600004 206319.3540000021, ...  \n",
       "\n",
       "[10 rows x 111 columns]"
      ]
     },
     "execution_count": 10,
     "metadata": {},
     "output_type": "execute_result"
    }
   ],
   "source": [
    "nrg['BBL'] = nrg['NYC Borough, Block, and Lot (BBL)']\n",
    "bblnrgdata = pd.merge(nrg, bsize, on='BBL')\n",
    "bblnrgdata[:10]"
   ]
  },
  {
   "cell_type": "markdown",
   "metadata": {},
   "source": [
    "once you have the dataframe with all the info you want, you want to plot \n",
    "Energy vs Number of Units in the Building. \n",
    "Remember: Energy TOTAL, not per sq ft...\n",
    "Here you can choose what you think makes more sense for the number of units: all units, residential units...\n",
    "make a 'natural' scale scatter plot first it will look really bad cause all the datapoints are at very low Unit numbers while the Unit number range actually goes up to 8000.\n",
    "perhaps zoom into the region where most points are by cutting your x and y axis plotted: e,g, use xlim=(1000,1e10), ylim=(1,1000), where the numbers to be plugged in depend on exactly what you chose to plot"
   ]
  },
  {
   "cell_type": "code",
   "execution_count": 11,
   "metadata": {
    "collapsed": false
   },
   "outputs": [
    {
     "name": "stdout",
     "output_type": "stream",
     "text": [
      "0       1.932388e+07\n",
      "1       8.923786e+06\n",
      "2       6.484985e+06\n",
      "3       7.252000e+06\n",
      "4       2.657421e+07\n",
      "5       8.313213e+06\n",
      "6       2.606125e+10\n",
      "7       4.507029e+07\n",
      "8       8.861394e+05\n",
      "9                NaN\n",
      "10      6.721880e+06\n",
      "11      1.571334e+07\n",
      "12      8.304709e+06\n",
      "13      7.611074e+07\n",
      "14      8.857581e+07\n",
      "15      7.286018e+06\n",
      "16      5.401410e+06\n",
      "17      6.619960e+06\n",
      "18      1.715440e+06\n",
      "19      4.870652e+06\n",
      "20               NaN\n",
      "21      3.643200e+06\n",
      "22      4.235712e+07\n",
      "23      8.150267e+06\n",
      "24      4.539942e+06\n",
      "25      4.937273e+06\n",
      "26      4.323671e+07\n",
      "27               NaN\n",
      "28      1.368137e+07\n",
      "29               NaN\n",
      "            ...     \n",
      "6515             NaN\n",
      "6516             NaN\n",
      "6517             NaN\n",
      "6518             NaN\n",
      "6519             NaN\n",
      "6520             NaN\n",
      "6521             NaN\n",
      "6522             NaN\n",
      "6523             NaN\n",
      "6524             NaN\n",
      "6525             NaN\n",
      "6526             NaN\n",
      "6527             NaN\n",
      "6528             NaN\n",
      "6529             NaN\n",
      "6530             NaN\n",
      "6531             NaN\n",
      "6532             NaN\n",
      "6533             NaN\n",
      "6534             NaN\n",
      "6535             NaN\n",
      "6536             NaN\n",
      "6537             NaN\n",
      "6538             NaN\n",
      "6539             NaN\n",
      "6540             NaN\n",
      "6541             NaN\n",
      "6542             NaN\n",
      "6543             NaN\n",
      "6544             NaN\n",
      "Name: EUITotal, dtype: float64\n",
      "0        24\n",
      "1        62\n",
      "2        85\n",
      "3       128\n",
      "4        10\n",
      "5        61\n",
      "6       486\n",
      "7       453\n",
      "8        10\n",
      "9        62\n",
      "10       68\n",
      "11       89\n",
      "12        9\n",
      "13       38\n",
      "14        5\n",
      "15       72\n",
      "16       56\n",
      "17       62\n",
      "18       95\n",
      "19       61\n",
      "20       57\n",
      "21       61\n",
      "22      526\n",
      "23       53\n",
      "24       43\n",
      "25       66\n",
      "26      195\n",
      "27      182\n",
      "28       42\n",
      "29       36\n",
      "       ... \n",
      "6515     78\n",
      "6516      0\n",
      "6517      2\n",
      "6518    318\n",
      "6519     54\n",
      "6520     63\n",
      "6521     24\n",
      "6522     68\n",
      "6523     12\n",
      "6524     34\n",
      "6525    114\n",
      "6526     17\n",
      "6527     90\n",
      "6528      1\n",
      "6529    198\n",
      "6530     60\n",
      "6531    295\n",
      "6532    384\n",
      "6533      1\n",
      "6534      1\n",
      "6535     76\n",
      "6536     56\n",
      "6537      1\n",
      "6538     15\n",
      "6539     25\n",
      "6540     17\n",
      "6541      1\n",
      "6542      6\n",
      "6543      1\n",
      "6544     52\n",
      "Name: UnitsTotal, dtype: float64\n"
     ]
    },
    {
     "name": "stderr",
     "output_type": "stream",
     "text": [
      "/Users/lucyy/anaconda/lib/python2.7/site-packages/pandas/core/index.py:1572: UnicodeWarning: Unicode equal comparison failed to convert both arguments to Unicode - interpreting them as being unequal\n",
      "  return self._engine.get_loc(_values_from_object(key))\n"
     ]
    }
   ],
   "source": [
    "#create eui = site area * buildings\n",
    "bblnrgdata['EUITotal'] = bblnrgdata['Site EUI(kBtu/ft2)'].astype(float)*bblnrgdata['Reported Property Floor Area (Building(s)) (ft²)'].astype(float)\n",
    "print bblnrgdata['EUITotal']\n",
    "print bblnrgdata['UnitsTotal'].astype(float)"
   ]
  },
  {
   "cell_type": "markdown",
   "metadata": {},
   "source": [
    "when the points in a plot all look scrunched against the axis try a log plot! in pandas you enable that with the keyword 'loglog' :\n",
    "bblnrgdata.plot(..... loglog=True)\n",
    "\n",
    "NOTICE THAT YOU WILL STILL HAVE TO CUT YOUR DATASET! in my data i had a lot of energy datapoints that were exactly 0. I removed these \"outliers\" which I think are truly outliers in the sense that they are misreported numbers. you can remove the data that have nrg==0 (or nrg < some sensible threshold choice) by indexing your array:\n",
    "something like bblnrgdata_cut = bblnrgdata[bblnrgdata.nrg>1000]\n",
    "\n",
    "also i removed the buildings with several thousand units. points like that at the edge of my range would have a lot of \"LEVERAGE\", however  they are not suprious entries like the 0, which i believe are missing values, or perhaps abandoned lots. these are good datapoint that i need to throw away functionally for my analysis to work, but that should be stated clearly.\n"
   ]
  },
  {
   "cell_type": "code",
   "execution_count": 12,
   "metadata": {
    "collapsed": false
   },
   "outputs": [],
   "source": [
    "#clean data\n",
    "bblnrgdata_cut = bblnrgdata[(bblnrgdata['EUITotal']>1000) & (bblnrgdata['EUITotal']<1e10)]\n",
    "bblnrgdata_cut = bblnrgdata[(bblnrgdata['UnitsTotal']<1000) & (bblnrgdata['UnitsTotal']>=1)]"
   ]
  },
  {
   "cell_type": "code",
   "execution_count": 13,
   "metadata": {
    "collapsed": false
   },
   "outputs": [
    {
     "data": {
      "text/plain": [
       "<matplotlib.text.Text at 0x1179fef50>"
      ]
     },
     "execution_count": 13,
     "metadata": {},
     "output_type": "execute_result"
    },
    {
     "data": {
      "image/png": "[encoded data removed]",
      "text/plain": [
       "<matplotlib.figure.Figure at 0x112d7b290>"
      ]
     },
     "metadata": {},
     "output_type": "display_data"
    }
   ],
   "source": [
    "#plot energy vs number of units\n",
    "pl.figure(figsize=(10,10))\n",
    "pl.scatter(bblnrgdata['UnitsTotal'],bblnrgdata['EUITotal'], color='b')\n",
    "pl.title('Scatterplot of EUI Total vs Number of Units')\n",
    "pl.xlabel('Number of Units')\n",
    "pl.ylabel('EUI Total')"
   ]
  },
  {
   "cell_type": "markdown",
   "metadata": {},
   "source": [
    "Most of the buildings are below 3,000 units with total energy consumption below 1e10. "
   ]
  },
  {
   "cell_type": "code",
   "execution_count": 14,
   "metadata": {
    "collapsed": false
   },
   "outputs": [
    {
     "data": {
      "text/plain": [
       "(0, 10000000000.0)"
      ]
     },
     "execution_count": 14,
     "metadata": {},
     "output_type": "execute_result"
    },
    {
     "data": {
      "image/png": "[encoded data removed]",
      "text/plain": [
       "<matplotlib.figure.Figure at 0x119b82990>"
      ]
     },
     "metadata": {},
     "output_type": "display_data"
    }
   ],
   "source": [
    "#plot clean data\n",
    "pl.figure(figsize=(10,10))\n",
    "pl.scatter(bblnrgdata_cut['UnitsTotal'],bblnrgdata_cut['EUITotal'], alpha=.5, s=20, color='b')\n",
    "pl.title('Scatterplot of EUI Total vs Number of Units')\n",
    "pl.xlabel('Number of Units')\n",
    "pl.ylabel('EUI Total')\n",
    "pl.xlim([0,1000])\n",
    "pl.ylim([0,1e10])"
   ]
  },
  {
   "cell_type": "markdown",
   "metadata": {},
   "source": [
    "After removing the \"outliers\", you can see how the plot is more condensed."
   ]
  },
  {
   "cell_type": "code",
   "execution_count": 15,
   "metadata": {
    "collapsed": false
   },
   "outputs": [],
   "source": [
    "# Create log\n",
    "UnitsLog = np.log10(bblnrgdata_cut['UnitsTotal'])\n",
    "EUILog = np.log10(bblnrgdata_cut['EUITotal'])\n"
   ]
  },
  {
   "cell_type": "code",
   "execution_count": 16,
   "metadata": {
    "collapsed": false
   },
   "outputs": [
    {
     "data": {
      "text/plain": [
       "<matplotlib.text.Text at 0x11a16fe90>"
      ]
     },
     "execution_count": 16,
     "metadata": {},
     "output_type": "execute_result"
    },
    {
     "data": {
      "image/png": "[encoded data removed]",
      "text/plain": [
       "<matplotlib.figure.Figure at 0x11a032d10>"
      ]
     },
     "metadata": {},
     "output_type": "display_data"
    }
   ],
   "source": [
    "pl.figure(figsize=(10,10))\n",
    "pl.scatter(UnitsLog, EUILog, color='b')\n",
    "pl.title('Scatterplot of EUI Total vs Number of Units')\n",
    "pl.xlabel('Number of Units (Log)')\n",
    "pl.ylabel('EUI Total (Log)')\n"
   ]
  },
  {
   "cell_type": "markdown",
   "metadata": {},
   "source": [
    "Above is the log for total energy and number of units, we can see it's scattered throughout graph showing that more buildings uses a slight more energy, not by too much though."
   ]
  },
  {
   "cell_type": "markdown",
   "metadata": {},
   "source": [
    "Now fit a line through the data. you can use whatever you want to do it: \n",
    "statsmodels, scipy, any other package, or write your own minimization of the residuals\n",
    "## BUT REMEMBER: we see hints of a lienar relation in log space! so we want to fit a line to the log of our variables, not the variables themselves:\n",
    "\n",
    "if you used statsmodels it would look something like this:"
   ]
  },
  {
   "cell_type": "code",
   "execution_count": 17,
   "metadata": {
    "collapsed": false
   },
   "outputs": [
    {
     "name": "stdout",
     "output_type": "stream",
     "text": [
      "0       1.380211\n",
      "1       1.792392\n",
      "2       1.929419\n",
      "3       2.107210\n",
      "4       1.000000\n",
      "5       1.785330\n",
      "6       2.686636\n",
      "7       2.656098\n",
      "8       1.000000\n",
      "9       1.792392\n",
      "10      1.832509\n",
      "11      1.949390\n",
      "12      0.954243\n",
      "13      1.579784\n",
      "14      0.698970\n",
      "15      1.857332\n",
      "16      1.748188\n",
      "17      1.792392\n",
      "18      1.977724\n",
      "19      1.785330\n",
      "20      1.755875\n",
      "21      1.785330\n",
      "22      2.720986\n",
      "23      1.724276\n",
      "24      1.633468\n",
      "25      1.819544\n",
      "26      2.290035\n",
      "27      2.260071\n",
      "28      1.623249\n",
      "29      1.556303\n",
      "          ...   \n",
      "6514    1.748188\n",
      "6515    1.892095\n",
      "6517    0.301030\n",
      "6518    2.502427\n",
      "6519    1.732394\n",
      "6520    1.799341\n",
      "6521    1.380211\n",
      "6522    1.832509\n",
      "6523    1.079181\n",
      "6524    1.531479\n",
      "6525    2.056905\n",
      "6526    1.230449\n",
      "6527    1.954243\n",
      "6528    0.000000\n",
      "6529    2.296665\n",
      "6530    1.778151\n",
      "6531    2.469822\n",
      "6532    2.584331\n",
      "6533    0.000000\n",
      "6534    0.000000\n",
      "6535    1.880814\n",
      "6536    1.748188\n",
      "6537    0.000000\n",
      "6538    1.176091\n",
      "6539    1.397940\n",
      "6540    1.230449\n",
      "6541    0.000000\n",
      "6542    0.778151\n",
      "6543    0.000000\n",
      "6544    1.716003\n",
      "Name: UnitsTotal, dtype: float64 0        7.286094\n",
      "1        6.950549\n",
      "2        6.811909\n",
      "3        6.860458\n",
      "4        7.424460\n",
      "5        6.919769\n",
      "6       10.415995\n",
      "7        7.653890\n",
      "8        5.947502\n",
      "9             NaN\n",
      "10       6.827491\n",
      "11       7.196269\n",
      "12       6.919324\n",
      "13       7.881446\n",
      "14       7.947315\n",
      "15       6.862490\n",
      "16       6.732507\n",
      "17       6.820855\n",
      "18       6.234376\n",
      "19       6.687587\n",
      "20            NaN\n",
      "21       6.561483\n",
      "22       7.626926\n",
      "23       6.911172\n",
      "24       6.657050\n",
      "25       6.693487\n",
      "26       7.635853\n",
      "27            NaN\n",
      "28       7.136130\n",
      "29            NaN\n",
      "          ...    \n",
      "6514          NaN\n",
      "6515          NaN\n",
      "6517          NaN\n",
      "6518          NaN\n",
      "6519          NaN\n",
      "6520          NaN\n",
      "6521          NaN\n",
      "6522          NaN\n",
      "6523          NaN\n",
      "6524          NaN\n",
      "6525          NaN\n",
      "6526          NaN\n",
      "6527          NaN\n",
      "6528          NaN\n",
      "6529          NaN\n",
      "6530          NaN\n",
      "6531          NaN\n",
      "6532          NaN\n",
      "6533          NaN\n",
      "6534          NaN\n",
      "6535          NaN\n",
      "6536          NaN\n",
      "6537          NaN\n",
      "6538          NaN\n",
      "6539          NaN\n",
      "6540          NaN\n",
      "6541          NaN\n",
      "6542          NaN\n",
      "6543          NaN\n",
      "6544          NaN\n",
      "Name: EUITotal, dtype: float64\n"
     ]
    }
   ],
   "source": [
    "x = np.log10(bblnrgdata_cut.UnitsTotal)\n",
    "y = np.log10(bblnrgdata_cut.EUITotal)\n",
    "print x, y\n",
    "X = sm.add_constant(x)\n",
    "#print X\n",
    "model = sm.OLS(y, X, missing='drop')#.fit() # ignores entires where x or y is NaN\n",
    "fit = model.fit()\n",
    "#fit.params[1], fit.params[0] # could also return stderr in each via fit.bse"
   ]
  },
  {
   "cell_type": "markdown",
   "metadata": {},
   "source": [
    "remember to choose wisely which is your DEPENDENT and which is your INDEPENDENT variable. \n",
    "both for what you want to do logically (what changes as a functino of what) but also based on which  variable has a 'sensible' distribution that allows you to fit a function to it: \n",
    "    you need your independent variable to span a large range, and to be spread somewhat evenly in the range, \n",
    "    rather than just clustered in a spot\n",
    "    \n"
   ]
  },
  {
   "cell_type": "code",
   "execution_count": 18,
   "metadata": {
    "collapsed": false
   },
   "outputs": [
    {
     "data": {
      "text/html": [
       "<table class=\"simpletable\">\n",
       "<caption>OLS Regression Results</caption>\n",
       "<tr>\n",
       "  <th>Dep. Variable:</th>        <td>EUITotal</td>     <th>  R-squared:         </th> <td>     nan</td>\n",
       "</tr>\n",
       "<tr>\n",
       "  <th>Model:</th>                   <td>OLS</td>       <th>  Adj. R-squared:    </th> <td>     nan</td>\n",
       "</tr>\n",
       "<tr>\n",
       "  <th>Method:</th>             <td>Least Squares</td>  <th>  F-statistic:       </th> <td>     nan</td>\n",
       "</tr>\n",
       "<tr>\n",
       "  <th>Date:</th>             <td>Sun, 18 Oct 2015</td> <th>  Prob (F-statistic):</th>  <td>   nan</td> \n",
       "</tr>\n",
       "<tr>\n",
       "  <th>Time:</th>                 <td>14:03:00</td>     <th>  Log-Likelihood:    </th> <td>     nan</td>\n",
       "</tr>\n",
       "<tr>\n",
       "  <th>No. Observations:</th>      <td>  4982</td>      <th>  AIC:               </th> <td>     nan</td>\n",
       "</tr>\n",
       "<tr>\n",
       "  <th>Df Residuals:</th>          <td>  4980</td>      <th>  BIC:               </th> <td>     nan</td>\n",
       "</tr>\n",
       "<tr>\n",
       "  <th>Df Model:</th>              <td>     1</td>      <th>                     </th>     <td> </td>   \n",
       "</tr>\n",
       "<tr>\n",
       "  <th>Covariance Type:</th>      <td>nonrobust</td>    <th>                     </th>     <td> </td>   \n",
       "</tr>\n",
       "</table>\n",
       "<table class=\"simpletable\">\n",
       "<tr>\n",
       "       <td></td>         <th>coef</th>     <th>std err</th>      <th>t</th>      <th>P>|t|</th> <th>[95.0% Conf. Int.]</th> \n",
       "</tr>\n",
       "<tr>\n",
       "  <th>const</th>      <td>      -inf</td> <td>      nan</td> <td>      nan</td> <td>   nan</td> <td>      nan       nan</td>\n",
       "</tr>\n",
       "<tr>\n",
       "  <th>UnitsTotal</th> <td>       inf</td> <td>      nan</td> <td>      nan</td> <td>   nan</td> <td>      nan       nan</td>\n",
       "</tr>\n",
       "</table>\n",
       "<table class=\"simpletable\">\n",
       "<tr>\n",
       "  <th>Omnibus:</th>       <td>   nan</td> <th>  Durbin-Watson:     </th> <td>     nan</td>\n",
       "</tr>\n",
       "<tr>\n",
       "  <th>Prob(Omnibus):</th> <td>   nan</td> <th>  Jarque-Bera (JB):  </th> <td>     nan</td>\n",
       "</tr>\n",
       "<tr>\n",
       "  <th>Skew:</th>          <td>   nan</td> <th>  Prob(JB):          </th> <td>     nan</td>\n",
       "</tr>\n",
       "<tr>\n",
       "  <th>Kurtosis:</th>      <td>   nan</td> <th>  Cond. No.          </th> <td>    5.97</td>\n",
       "</tr>\n",
       "</table>"
      ],
      "text/plain": [
       "<class 'statsmodels.iolib.summary.Summary'>\n",
       "\"\"\"\n",
       "                            OLS Regression Results                            \n",
       "==============================================================================\n",
       "Dep. Variable:               EUITotal   R-squared:                         nan\n",
       "Model:                            OLS   Adj. R-squared:                    nan\n",
       "Method:                 Least Squares   F-statistic:                       nan\n",
       "Date:                Sun, 18 Oct 2015   Prob (F-statistic):                nan\n",
       "Time:                        14:03:00   Log-Likelihood:                    nan\n",
       "No. Observations:                4982   AIC:                               nan\n",
       "Df Residuals:                    4980   BIC:                               nan\n",
       "Df Model:                           1                                         \n",
       "Covariance Type:            nonrobust                                         \n",
       "==============================================================================\n",
       "                 coef    std err          t      P>|t|      [95.0% Conf. Int.]\n",
       "------------------------------------------------------------------------------\n",
       "const            -inf        nan        nan        nan           nan       nan\n",
       "UnitsTotal        inf        nan        nan        nan           nan       nan\n",
       "==============================================================================\n",
       "Omnibus:                          nan   Durbin-Watson:                     nan\n",
       "Prob(Omnibus):                    nan   Jarque-Bera (JB):                  nan\n",
       "Skew:                             nan   Prob(JB):                          nan\n",
       "Kurtosis:                         nan   Cond. No.                         5.97\n",
       "==============================================================================\n",
       "\n",
       "Warnings:\n",
       "[1] Standard Errors assume that the covariance matrix of the errors is correctly specified.\n",
       "\"\"\""
      ]
     },
     "execution_count": 18,
     "metadata": {},
     "output_type": "execute_result"
    }
   ],
   "source": [
    "#fit and plots here\n",
    "fit.summary()"
   ]
  },
  {
   "cell_type": "markdown",
   "metadata": {},
   "source": [
    "try making a fit for energy vs units AND a fit for units vs energy. \n",
    "tell me which is better. \n",
    "\n",
    "##look at the fit summary: which is better? could you do a likelihood ratio test here? why or why not??"
   ]
  },
  {
   "cell_type": "code",
   "execution_count": 19,
   "metadata": {
    "collapsed": true
   },
   "outputs": [],
   "source": [
    "#answer the question here"
   ]
  },
  {
   "cell_type": "markdown",
   "metadata": {},
   "source": [
    "##now fit a second degree curve to it: a*x^2+b*x+c. \n",
    "that is still called a linear fir by the way, the \"linear\" definition refers to the PARAMETERS being linear, not to the variable!\n",
    "you can use np.polyfit for example (an example showned in the other assignment notebook), with order 2 instead of 1,\n",
    "\n",
    "np.polyfit(x, y, 2)\n",
    "\n",
    "or statmodels.formula.api passing a formula like \n",
    "\n",
    "formula = 'y ~ 1 + x + I(x ^ 2.0)'\n",
    "\n",
    "##look at the fit summary: which is better? could you do a likelihood ratio test here? why or why not??"
   ]
  },
  {
   "cell_type": "markdown",
   "metadata": {},
   "source": [
    "EXTRA CREDIT: \n",
    "    \n",
    "use WLS the weighted sq fit instead of OLS. you need to give weights to your points: \n",
    "estimates of the errors. the easiest thing is the sqrt of the datapoint value.\n",
    "if you want to be more sophisticated you can estimate the variance of your data\n",
    "near each point and use that "
   ]
  },
  {
   "cell_type": "markdown",
   "metadata": {},
   "source": [
    "Lastly: do it by hand and create a function that minimizes the residuals: \n",
    "       \n",
    "the residuals are the sum of the differences between data and model: \n",
    "in the case of a line fit model (and you can use your errors if you did the extra credit!)\n",
    "\n",
    "sum(np.log(bblnrgdatacut.nrg) - np.log(bblnrgdatacut.UnitsTotal)*a+b )^2\n",
    "\n",
    "where a and b are the parameters returned by the line fitter. \n",
    "for each data point you can calculate the model at different values : for example in a range B = np.arange (-100, 100, 1) for the intercept, and A = np.arange(-50.0, 50.0, 0.5) for the slope\n",
    "\n",
    "write it as a nested for loop (or challenge yourself and vectorize it!) with a loop inside another ranging all poissible combinations of the 2 variables (i use enumerate to get both an index from 0 to the size of my array, which i assign to i (and j) and the value of the array at that index - look up the syntax!):\n",
    "\n",
    "\n",
    "for i,a in enumerate(A):\n",
    "\n",
    "    for j,b in enumerate(B):\n",
    "    \n",
    "         Lsurface[i][j].....\n",
    "\n",
    "this gives you a 2D array that represents your likelihood surface! what we do to find a good fit is find the minimum (lowest point) on this surface. \n",
    "\n",
    "you can plot a surface (a 2D array) with pl.imshow(Lsurface) as a \"heatmap\"\n",
    "\n",
    "but when you do that you will find that the plot is very uninformative. just like you did before with the data, plot the log of it (pl.imshow(np.log(Lsurface))\n",
    "and see if it helps!\n",
    "also make sure your x and y axes tick numbers represent the range of values, not the cell index, which is the default for imshow. do that with the keyword extent: \n",
    "pl.imshow(Lsurface, .... , extent = [minimum, and max of your y array, minimum, and max of your x array]...) (notice that the numbers are switched! make sure to verify which axis is the slope, which is the intercept)"
   ]
  },
  {
   "cell_type": "code",
   "execution_count": 20,
   "metadata": {
    "collapsed": true
   },
   "outputs": [],
   "source": [
    "##create the array\n",
    "##[...]\n",
    "##pl.figure(figsize=(10,10))\n",
    "##pl.title (\"log likelihood surface\", fontsize = 22)\n",
    "##pl.imshow(np.log(Lsurface), extent = ..., aspect=...)\n",
    "##[...]\n",
    "##pl.colorbar()"
   ]
  },
  {
   "cell_type": "markdown",
   "metadata": {},
   "source": [
    "EXTRA CREDIT: get creative with the dataset! can you make an insigntful plot to show any structure in the data?\n",
    "    \n",
    "below is my silly attempt at that\n",
    "\n",
    "\n"
   ]
  },
  {
   "cell_type": "code",
   "execution_count": 21,
   "metadata": {
    "collapsed": false
   },
   "outputs": [
    {
     "ename": "NameError",
     "evalue": "name 'bblnrgdatacut' is not defined",
     "output_type": "error",
     "traceback": [
      "\u001b[0;31m---------------------------------------------------------------------------\u001b[0m",
      "\u001b[0;31mNameError\u001b[0m                                 Traceback (most recent call last)",
      "\u001b[0;32m<ipython-input-21-7c895e25e602>\u001b[0m in \u001b[0;36m<module>\u001b[0;34m()\u001b[0m\n\u001b[0;32m----> 1\u001b[0;31m \u001b[0mbblnrgdatacut\u001b[0m\u001b[0;34m[\u001b[0m\u001b[0;34m'YearBuilt'\u001b[0m\u001b[0;34m]\u001b[0m\u001b[0;34m[\u001b[0m\u001b[0mbblnrgdatacut\u001b[0m\u001b[0;34m[\u001b[0m\u001b[0;34m'YearBuilt'\u001b[0m\u001b[0;34m]\u001b[0m\u001b[0;34m<\u001b[0m\u001b[0;36m1800\u001b[0m\u001b[0;34m]\u001b[0m\u001b[0;34m=\u001b[0m\u001b[0;36m1800\u001b[0m\u001b[0;34m\u001b[0m\u001b[0m\n\u001b[0m\u001b[1;32m      2\u001b[0m \u001b[0;34m\u001b[0m\u001b[0m\n\u001b[1;32m      3\u001b[0m \u001b[0mbblnrgdatacut\u001b[0m\u001b[0;34m.\u001b[0m\u001b[0mplot\u001b[0m\u001b[0;34m(\u001b[0m\u001b[0mkind\u001b[0m\u001b[0;34m=\u001b[0m\u001b[0;34m'scatter'\u001b[0m\u001b[0;34m,\u001b[0m\u001b[0mx\u001b[0m\u001b[0;34m=\u001b[0m\u001b[0;34m'nrg'\u001b[0m\u001b[0;34m,\u001b[0m\u001b[0my\u001b[0m\u001b[0;34m=\u001b[0m\u001b[0;34m'UnitsTotal'\u001b[0m\u001b[0;34m,\u001b[0m \u001b[0mfontsize\u001b[0m\u001b[0;34m=\u001b[0m\u001b[0;36m22\u001b[0m\u001b[0;34m,\u001b[0m \u001b[0mcolormap\u001b[0m\u001b[0;34m=\u001b[0m\u001b[0;34m'gist_rainbow'\u001b[0m\u001b[0;34m,\u001b[0m \u001b[0malpha\u001b[0m \u001b[0;34m=\u001b[0m \u001b[0;36m1\u001b[0m\u001b[0;34m,\u001b[0m \u001b[0mmarker\u001b[0m\u001b[0;34m=\u001b[0m\u001b[0;34m'o'\u001b[0m\u001b[0;34m,\u001b[0m  \u001b[0mfigsize\u001b[0m\u001b[0;34m=\u001b[0m\u001b[0;34m(\u001b[0m\u001b[0;36m16\u001b[0m\u001b[0;34m,\u001b[0m \u001b[0;36m14\u001b[0m\u001b[0;34m)\u001b[0m\u001b[0;34m,\u001b[0m \u001b[0mloglog\u001b[0m\u001b[0;34m=\u001b[0m\u001b[0mTrue\u001b[0m\u001b[0;34m,\u001b[0m  \u001b[0mxlim\u001b[0m\u001b[0;34m=\u001b[0m\u001b[0;34m(\u001b[0m\u001b[0;36m1000\u001b[0m\u001b[0;34m,\u001b[0m\u001b[0;36m1e11\u001b[0m\u001b[0;34m)\u001b[0m\u001b[0;34m,\u001b[0m \u001b[0mylim\u001b[0m\u001b[0;34m=\u001b[0m\u001b[0;34m(\u001b[0m\u001b[0;36m1\u001b[0m\u001b[0;34m,\u001b[0m\u001b[0;36m1000\u001b[0m\u001b[0;34m)\u001b[0m\u001b[0;34m,\u001b[0m \u001b[0mc\u001b[0m\u001b[0;34m=\u001b[0m\u001b[0mbblnrgdatacut\u001b[0m\u001b[0;34m[\u001b[0m\u001b[0;34m'YearBuilt'\u001b[0m\u001b[0;34m]\u001b[0m\u001b[0;34m-\u001b[0m\u001b[0;36m1900\u001b[0m\u001b[0;34m,\u001b[0m \u001b[0ms\u001b[0m\u001b[0;34m=\u001b[0m\u001b[0mbblnrgdatacut\u001b[0m\u001b[0;34m[\u001b[0m\u001b[0;34m'UnitsTotal'\u001b[0m\u001b[0;34m]\u001b[0m\u001b[0;34m/\u001b[0m\u001b[0mbblnrgdatacut\u001b[0m\u001b[0;34m[\u001b[0m\u001b[0;34m'UnitsRes'\u001b[0m\u001b[0;34m]\u001b[0m\u001b[0;34m*\u001b[0m\u001b[0;36m100\u001b[0m\u001b[0;34m)\u001b[0m\u001b[0;34m\u001b[0m\u001b[0m\n",
      "\u001b[0;31mNameError\u001b[0m: name 'bblnrgdatacut' is not defined"
     ]
    }
   ],
   "source": [
    "bblnrgdatacut['YearBuilt'][bblnrgdatacut['YearBuilt']<1800]=1800\n",
    "\n",
    "bblnrgdatacut.plot(kind='scatter',x='nrg',y='UnitsTotal', fontsize=22, colormap='gist_rainbow', alpha = 1, marker='o',  figsize=(16, 14), loglog=True,  xlim=(1000,1e11), ylim=(1,1000), c=bblnrgdatacut['YearBuilt']-1900, s=bblnrgdatacut['UnitsTotal']/bblnrgdatacut['UnitsRes']*100)"
   ]
  },
  {
   "cell_type": "code",
   "execution_count": null,
   "metadata": {
    "collapsed": true
   },
   "outputs": [],
   "source": []
  }
 ],
 "metadata": {
  "kernelspec": {
   "display_name": "Python 2",
   "language": "python",
   "name": "python2"
  },
  "language_info": {
   "codemirror_mode": {
    "name": "ipython",
    "version": 2
   },
   "file_extension": ".py",
   "mimetype": "text/x-python",
   "name": "python",
   "nbconvert_exporter": "python",
   "pygments_lexer": "ipython2",
   "version": "2.7.10"
  }
 },
 "nbformat": 4,
 "nbformat_minor": 0
}
