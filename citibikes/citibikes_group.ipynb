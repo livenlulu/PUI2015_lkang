{
 "cells": [
  {
   "cell_type": "code",
   "execution_count": 6,
   "metadata": {
    "collapsed": false
   },
   "outputs": [
    {
     "name": "stdout",
     "output_type": "stream",
     "text": [
      "Populating the interactive namespace from numpy and matplotlib\n"
     ]
    }
   ],
   "source": [
    "import pylab as pl\n",
    "import pandas as pd\n",
    "import numpy as np\n",
    "%pylab inline\n",
    "\n",
    "import os"
   ]
  },
  {
   "cell_type": "markdown",
   "metadata": {},
   "source": [
    "# IDEA\n",
    "## Riders are likely to ride faster during rush hours\n",
    "\n",
    "# NULL HYPOTHESIS\n",
    "## During off peak hours, riders are likely to ride slower. \n",
    "\n",
    "## $H_0: \\mu_p - \\mu_r ≥ 0$\n",
    "## $H_1: \\mu_p - \\mu_r < 0$\n",
    "\n",
    "\n",
    "## Significance level : $\\alpha = 0.05$\n",
    "### where $\\mu_p =$ mean speed for off peak hours, $\\mu_r =$ mean speed for rush hours.\n",
    "\n",
    "\n",
    "### Reading data from citibike csv file from Sept. 2015"
   ]
  },
  {
   "cell_type": "code",
   "execution_count": 7,
   "metadata": {
    "collapsed": false
   },
   "outputs": [],
   "source": [
    "df = pd.read_csv(\"/Users/lucyy/201509-citibike-tripdata.csv\", header=0)"
   ]
  },
  {
   "cell_type": "code",
   "execution_count": 8,
   "metadata": {
    "collapsed": false
   },
   "outputs": [
    {
     "name": "stdout",
     "output_type": "stream",
     "text": [
      "The average trip duration time is 17.5141638088 minutes.\n"
     ]
    }
   ],
   "source": [
    "print \"The average trip duration time is\", (np.mean(df['tripduration']/60, axis=0)), \"minutes.\""
   ]
  },
  {
   "cell_type": "code",
   "execution_count": 9,
   "metadata": {
    "collapsed": false
   },
   "outputs": [
    {
     "name": "stdout",
     "output_type": "stream",
     "text": [
      "Index([u'tripduration', u'starttime', u'stoptime', u'start station id',\n",
      "       u'start station name', u'start station latitude',\n",
      "       u'start station longitude', u'end station id', u'end station name',\n",
      "       u'end station latitude', u'end station longitude', u'bikeid',\n",
      "       u'usertype', u'birth year', u'gender'],\n",
      "      dtype='object')\n"
     ]
    }
   ],
   "source": [
    "print df.columns"
   ]
  },
  {
   "cell_type": "code",
   "execution_count": 10,
   "metadata": {
    "collapsed": false
   },
   "outputs": [],
   "source": [
    "df['start'] = pd.to_datetime(df['starttime']).dt.hour"
   ]
  },
  {
   "cell_type": "markdown",
   "metadata": {},
   "source": [
    "## Assumptions\n",
    "#Morning rush hour: 7AM - 10AM\n",
    "#Afternoon rush hour: 4PM - 7PM\n",
    "#Off peak hours: 7PM - 7AM, 10AM - 4PM "
   ]
  },
  {
   "cell_type": "code",
   "execution_count": 17,
   "metadata": {
    "collapsed": false
   },
   "outputs": [],
   "source": [
    "df['morningrush'] = (df['start'] >= 7) & (df['start'] <= 10)\n",
    "df['afternoonrush'] = (df['start'] >= 16) & (df['start'] <= 19)\n",
    "df['offpeak'] = (df['start'] >= 19) & (df['start'] <= 7) | (df['start'] >= 10) & (df['start'] <= 4)"
   ]
  },
  {
   "cell_type": "code",
   "execution_count": 20,
   "metadata": {
    "collapsed": false
   },
   "outputs": [
    {
     "data": {
      "text/plain": [
       "count      1289699\n",
       "mean     0.2265017\n",
       "std      0.4185676\n",
       "min          False\n",
       "25%              0\n",
       "50%              0\n",
       "75%              0\n",
       "max           True\n",
       "Name: morningrush, dtype: object"
      ]
     },
     "execution_count": 20,
     "metadata": {},
     "output_type": "execute_result"
    }
   ],
   "source": [
    "df.morningrush.describe()"
   ]
  },
  {
   "cell_type": "code",
   "execution_count": 22,
   "metadata": {
    "collapsed": false
   },
   "outputs": [
    {
     "data": {
      "text/plain": [
       "count      1289699\n",
       "mean     0.3335895\n",
       "std      0.4714952\n",
       "min          False\n",
       "25%              0\n",
       "50%              0\n",
       "75%              1\n",
       "max           True\n",
       "Name: afternoonrush, dtype: object"
      ]
     },
     "execution_count": 22,
     "metadata": {},
     "output_type": "execute_result"
    }
   ],
   "source": [
    "df.afternoonrush.describe()"
   ]
  },
  {
   "cell_type": "code",
   "execution_count": 21,
   "metadata": {
    "collapsed": false
   },
   "outputs": [
    {
     "data": {
      "text/plain": [
       "count    1289699\n",
       "mean           0\n",
       "std            0\n",
       "min        False\n",
       "25%            0\n",
       "50%            0\n",
       "75%            0\n",
       "max        False\n",
       "Name: offpeak, dtype: object"
      ]
     },
     "execution_count": 21,
     "metadata": {},
     "output_type": "execute_result"
    }
   ],
   "source": [
    "df.offpeak.describe()"
   ]
  },
  {
   "cell_type": "code",
   "execution_count": null,
   "metadata": {
    "collapsed": true
   },
   "outputs": [],
   "source": []
  }
 ],
 "metadata": {
  "kernelspec": {
   "display_name": "Python 2",
   "language": "python",
   "name": "python2"
  },
  "language_info": {
   "codemirror_mode": {
    "name": "ipython",
    "version": 2
   },
   "file_extension": ".py",
   "mimetype": "text/x-python",
   "name": "python",
   "nbconvert_exporter": "python",
   "pygments_lexer": "ipython2",
   "version": "2.7.10"
  }
 },
 "nbformat": 4,
 "nbformat_minor": 0
}
